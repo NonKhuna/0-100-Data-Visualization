{
  "nbformat": 4,
  "nbformat_minor": 0,
  "metadata": {
    "colab": {
      "name": "22p21c0495-นนต์_virtualization_data19/9.ipynb",
      "provenance": [],
      "collapsed_sections": [
        "up1e-FsuwE1T",
        "wGjTSdhF0AGZ",
        "WkTpNudN9ysM"
      ],
      "toc_visible": true,
      "mount_file_id": "1KgD4taA4o18QmBEIw1xkQDKNuiE1mxAb",
      "authorship_tag": "ABX9TyM1mG1hTKE+lAH8teM5ZSns",
      "include_colab_link": true
    },
    "kernelspec": {
      "name": "python3",
      "display_name": "Python 3"
    }
  },
  "cells": [
    {
      "cell_type": "markdown",
      "metadata": {
        "id": "view-in-github",
        "colab_type": "text"
      },
      "source": [
        "<a href=\"https://colab.research.google.com/github/NonKhuna/0-100-Data-Visualization/blob/master/health-insurance-cross-sell-prediction.ipynb\" target=\"_parent\"><img src=\"https://colab.research.google.com/assets/colab-badge.svg\" alt=\"Open In Colab\"/></a>"
      ]
    },
    {
      "cell_type": "markdown",
      "metadata": {
        "id": "up1e-FsuwE1T"
      },
      "source": [
        "# Import Data from kaggle\n",
        "\n",
        "---\n",
        "\n",
        "นำขอมูล Health Insurance Cross Sell Prediction  จาก kaggle  เป็นการวิเคราะห์คนที่สนใจประกันรถยนต์จากคนที่มีประกันชีวิต"
      ]
    },
    {
      "cell_type": "code",
      "metadata": {
        "id": "XHbXGi2xJ9WF"
      },
      "source": [
        "from google.colab import files\n",
        "files.upload()  #this will prompt you to upload the kaggle.json"
      ],
      "execution_count": null,
      "outputs": []
    },
    {
      "cell_type": "code",
      "metadata": {
        "id": "yofP9LGN4_Rv"
      },
      "source": [
        "!pip install -q kaggle\n",
        "!mkdir -p ~/.kaggle\n",
        "!cp kaggle.json ~/.kaggle/\n",
        "!ls ~/.kaggle\n",
        "!chmod 600 /root/.kaggle/kaggle.json  # set permission"
      ],
      "execution_count": null,
      "outputs": []
    },
    {
      "cell_type": "code",
      "metadata": {
        "id": "qty8EVq1M-UJ"
      },
      "source": [
        "!kaggle datasets download -d anmolkumar/health-insurance-cross-sell-prediction"
      ],
      "execution_count": null,
      "outputs": []
    },
    {
      "cell_type": "code",
      "metadata": {
        "id": "VGgzHZOcv7YI"
      },
      "source": [
        "!unzip /content/health-insurance-cross-sell-prediction.zip"
      ],
      "execution_count": null,
      "outputs": []
    },
    {
      "cell_type": "markdown",
      "metadata": {
        "id": "vHsgBt9cwLJW"
      },
      "source": [
        "# Data analysis\n",
        "\n",
        "---\n",
        "\n"
      ]
    },
    {
      "cell_type": "markdown",
      "metadata": {
        "id": "1fY3v8MFxphc"
      },
      "source": [
        "<div class=\"tableWrapper\"><table>\n",
        "<thead>\n",
        "<tr>\n",
        "<th>Variable</th>\n",
        "<th>Definition</th>\n",
        "</tr>\n",
        "</thead>\n",
        "<tbody>\n",
        "<tr>\n",
        "<td>id</td>\n",
        "<td>Unique ID for the customer</td>\n",
        "</tr>\n",
        "<tr>\n",
        "<td>Gender</td>\n",
        "<td>Gender of the customer</td>\n",
        "</tr>\n",
        "<tr>\n",
        "<td>Age</td>\n",
        "<td>Age of the customer</td>\n",
        "</tr>\n",
        "<tr>\n",
        "<td>Driving_License</td>\n",
        "<td>0 : Customer does not have DL, 1 : Customer already has DL</td>\n",
        "</tr>\n",
        "<tr>\n",
        "<td>Region_Code</td>\n",
        "<td>Unique code for the region of the customer</td>\n",
        "</tr>\n",
        "<tr>\n",
        "<td>Previously_Insured</td>\n",
        "<td>1 : Customer already has Vehicle Insurance, 0 : Customer doesn't have Vehicle Insurance</td>\n",
        "</tr>\n",
        "<tr>\n",
        "<td>Vehicle_Age</td>\n",
        "<td>Age of the Vehicle</td>\n",
        "</tr>\n",
        "<tr>\n",
        "<td>Vehicle_Damage</td>\n",
        "<td>1 : Customer got his/her vehicle damaged in the past. 0 : Customer didn't get his/her vehicle damaged in the past.</td>\n",
        "</tr>\n",
        "<tr>\n",
        "<td>Annual_Premium</td>\n",
        "<td>The amount customer needs to pay as premium in the year</td>\n",
        "</tr>\n",
        "<tr>\n",
        "<td>Policy<em>Sales</em>Channel</td>\n",
        "<td>Anonymized Code for the channel of outreaching to the customer ie. Different Agents, Over Mail, Over Phone, In Person, etc.</td>\n",
        "</tr>\n",
        "<tr>\n",
        "<td>Vintage</td>\n",
        "<td>Number of Days, Customer has been associated with the company</td>\n",
        "</tr>\n",
        "<tr>\n",
        "<td>Response</td>\n",
        "<td>1 :  Customer is interested, 0 : Customer is not interested</td>\n",
        "</tr>\n",
        "</tbody>\n",
        "</table></div><br>\n"
      ]
    },
    {
      "cell_type": "markdown",
      "metadata": {
        "id": "Ezgwb5Ie1Zax"
      },
      "source": [
        "[แหล่งที่มา](https://www.kaggle.com/anmolkumar/health-insurance-cross-sell-prediction)"
      ]
    },
    {
      "cell_type": "code",
      "metadata": {
        "id": "RDxXt9X2w7Cs",
        "colab": {
          "base_uri": "https://localhost:8080/",
          "height": 204
        },
        "outputId": "573a33a6-3df5-44d4-b50c-dcd4d3ee86f4"
      },
      "source": [
        "import pandas as pd \n",
        "import numpy as np\n",
        "import matplotlib.pyplot as plt\n",
        "#ใช้ tranin data set ในการวิเคราะห์\n",
        "df = pd.read_csv(\"/content/train.csv\")\n",
        "df.head()"
      ],
      "execution_count": null,
      "outputs": [
        {
          "output_type": "execute_result",
          "data": {
            "text/html": [
              "<div>\n",
              "<style scoped>\n",
              "    .dataframe tbody tr th:only-of-type {\n",
              "        vertical-align: middle;\n",
              "    }\n",
              "\n",
              "    .dataframe tbody tr th {\n",
              "        vertical-align: top;\n",
              "    }\n",
              "\n",
              "    .dataframe thead th {\n",
              "        text-align: right;\n",
              "    }\n",
              "</style>\n",
              "<table border=\"1\" class=\"dataframe\">\n",
              "  <thead>\n",
              "    <tr style=\"text-align: right;\">\n",
              "      <th></th>\n",
              "      <th>id</th>\n",
              "      <th>Gender</th>\n",
              "      <th>Age</th>\n",
              "      <th>Driving_License</th>\n",
              "      <th>Region_Code</th>\n",
              "      <th>Previously_Insured</th>\n",
              "      <th>Vehicle_Age</th>\n",
              "      <th>Vehicle_Damage</th>\n",
              "      <th>Annual_Premium</th>\n",
              "      <th>Policy_Sales_Channel</th>\n",
              "      <th>Vintage</th>\n",
              "      <th>Response</th>\n",
              "    </tr>\n",
              "  </thead>\n",
              "  <tbody>\n",
              "    <tr>\n",
              "      <th>0</th>\n",
              "      <td>1</td>\n",
              "      <td>Male</td>\n",
              "      <td>44</td>\n",
              "      <td>1</td>\n",
              "      <td>28.0</td>\n",
              "      <td>0</td>\n",
              "      <td>&gt; 2 Years</td>\n",
              "      <td>Yes</td>\n",
              "      <td>40454.0</td>\n",
              "      <td>26.0</td>\n",
              "      <td>217</td>\n",
              "      <td>1</td>\n",
              "    </tr>\n",
              "    <tr>\n",
              "      <th>1</th>\n",
              "      <td>2</td>\n",
              "      <td>Male</td>\n",
              "      <td>76</td>\n",
              "      <td>1</td>\n",
              "      <td>3.0</td>\n",
              "      <td>0</td>\n",
              "      <td>1-2 Year</td>\n",
              "      <td>No</td>\n",
              "      <td>33536.0</td>\n",
              "      <td>26.0</td>\n",
              "      <td>183</td>\n",
              "      <td>0</td>\n",
              "    </tr>\n",
              "    <tr>\n",
              "      <th>2</th>\n",
              "      <td>3</td>\n",
              "      <td>Male</td>\n",
              "      <td>47</td>\n",
              "      <td>1</td>\n",
              "      <td>28.0</td>\n",
              "      <td>0</td>\n",
              "      <td>&gt; 2 Years</td>\n",
              "      <td>Yes</td>\n",
              "      <td>38294.0</td>\n",
              "      <td>26.0</td>\n",
              "      <td>27</td>\n",
              "      <td>1</td>\n",
              "    </tr>\n",
              "    <tr>\n",
              "      <th>3</th>\n",
              "      <td>4</td>\n",
              "      <td>Male</td>\n",
              "      <td>21</td>\n",
              "      <td>1</td>\n",
              "      <td>11.0</td>\n",
              "      <td>1</td>\n",
              "      <td>&lt; 1 Year</td>\n",
              "      <td>No</td>\n",
              "      <td>28619.0</td>\n",
              "      <td>152.0</td>\n",
              "      <td>203</td>\n",
              "      <td>0</td>\n",
              "    </tr>\n",
              "    <tr>\n",
              "      <th>4</th>\n",
              "      <td>5</td>\n",
              "      <td>Female</td>\n",
              "      <td>29</td>\n",
              "      <td>1</td>\n",
              "      <td>41.0</td>\n",
              "      <td>1</td>\n",
              "      <td>&lt; 1 Year</td>\n",
              "      <td>No</td>\n",
              "      <td>27496.0</td>\n",
              "      <td>152.0</td>\n",
              "      <td>39</td>\n",
              "      <td>0</td>\n",
              "    </tr>\n",
              "  </tbody>\n",
              "</table>\n",
              "</div>"
            ],
            "text/plain": [
              "   id  Gender  Age  ...  Policy_Sales_Channel  Vintage  Response\n",
              "0   1    Male   44  ...                  26.0      217         1\n",
              "1   2    Male   76  ...                  26.0      183         0\n",
              "2   3    Male   47  ...                  26.0       27         1\n",
              "3   4    Male   21  ...                 152.0      203         0\n",
              "4   5  Female   29  ...                 152.0       39         0\n",
              "\n",
              "[5 rows x 12 columns]"
            ]
          },
          "metadata": {
            "tags": []
          },
          "execution_count": 4
        }
      ]
    },
    {
      "cell_type": "code",
      "metadata": {
        "id": "s1KHVoa9TOPT"
      },
      "source": [
        "import matplotlib as mpl\n",
        "mpl.rcParams['agg.path.chunksize'] = 10000"
      ],
      "execution_count": null,
      "outputs": []
    },
    {
      "cell_type": "code",
      "metadata": {
        "id": "ikvZ9fcVxRQO",
        "colab": {
          "base_uri": "https://localhost:8080/",
          "height": 297
        },
        "outputId": "8fdc3c65-61a8-4c14-da06-f08db7dd8fe7"
      },
      "source": [
        "df.describe()"
      ],
      "execution_count": null,
      "outputs": [
        {
          "output_type": "execute_result",
          "data": {
            "text/html": [
              "<div>\n",
              "<style scoped>\n",
              "    .dataframe tbody tr th:only-of-type {\n",
              "        vertical-align: middle;\n",
              "    }\n",
              "\n",
              "    .dataframe tbody tr th {\n",
              "        vertical-align: top;\n",
              "    }\n",
              "\n",
              "    .dataframe thead th {\n",
              "        text-align: right;\n",
              "    }\n",
              "</style>\n",
              "<table border=\"1\" class=\"dataframe\">\n",
              "  <thead>\n",
              "    <tr style=\"text-align: right;\">\n",
              "      <th></th>\n",
              "      <th>id</th>\n",
              "      <th>Age</th>\n",
              "      <th>Driving_License</th>\n",
              "      <th>Region_Code</th>\n",
              "      <th>Previously_Insured</th>\n",
              "      <th>Annual_Premium</th>\n",
              "      <th>Policy_Sales_Channel</th>\n",
              "      <th>Vintage</th>\n",
              "      <th>Response</th>\n",
              "    </tr>\n",
              "  </thead>\n",
              "  <tbody>\n",
              "    <tr>\n",
              "      <th>count</th>\n",
              "      <td>381109.000000</td>\n",
              "      <td>381109.000000</td>\n",
              "      <td>381109.000000</td>\n",
              "      <td>381109.000000</td>\n",
              "      <td>381109.000000</td>\n",
              "      <td>381109.000000</td>\n",
              "      <td>381109.000000</td>\n",
              "      <td>381109.000000</td>\n",
              "      <td>381109.000000</td>\n",
              "    </tr>\n",
              "    <tr>\n",
              "      <th>mean</th>\n",
              "      <td>190555.000000</td>\n",
              "      <td>38.822584</td>\n",
              "      <td>0.997869</td>\n",
              "      <td>26.388807</td>\n",
              "      <td>0.458210</td>\n",
              "      <td>30564.389581</td>\n",
              "      <td>112.034295</td>\n",
              "      <td>154.347397</td>\n",
              "      <td>0.122563</td>\n",
              "    </tr>\n",
              "    <tr>\n",
              "      <th>std</th>\n",
              "      <td>110016.836208</td>\n",
              "      <td>15.511611</td>\n",
              "      <td>0.046110</td>\n",
              "      <td>13.229888</td>\n",
              "      <td>0.498251</td>\n",
              "      <td>17213.155057</td>\n",
              "      <td>54.203995</td>\n",
              "      <td>83.671304</td>\n",
              "      <td>0.327936</td>\n",
              "    </tr>\n",
              "    <tr>\n",
              "      <th>min</th>\n",
              "      <td>1.000000</td>\n",
              "      <td>20.000000</td>\n",
              "      <td>0.000000</td>\n",
              "      <td>0.000000</td>\n",
              "      <td>0.000000</td>\n",
              "      <td>2630.000000</td>\n",
              "      <td>1.000000</td>\n",
              "      <td>10.000000</td>\n",
              "      <td>0.000000</td>\n",
              "    </tr>\n",
              "    <tr>\n",
              "      <th>25%</th>\n",
              "      <td>95278.000000</td>\n",
              "      <td>25.000000</td>\n",
              "      <td>1.000000</td>\n",
              "      <td>15.000000</td>\n",
              "      <td>0.000000</td>\n",
              "      <td>24405.000000</td>\n",
              "      <td>29.000000</td>\n",
              "      <td>82.000000</td>\n",
              "      <td>0.000000</td>\n",
              "    </tr>\n",
              "    <tr>\n",
              "      <th>50%</th>\n",
              "      <td>190555.000000</td>\n",
              "      <td>36.000000</td>\n",
              "      <td>1.000000</td>\n",
              "      <td>28.000000</td>\n",
              "      <td>0.000000</td>\n",
              "      <td>31669.000000</td>\n",
              "      <td>133.000000</td>\n",
              "      <td>154.000000</td>\n",
              "      <td>0.000000</td>\n",
              "    </tr>\n",
              "    <tr>\n",
              "      <th>75%</th>\n",
              "      <td>285832.000000</td>\n",
              "      <td>49.000000</td>\n",
              "      <td>1.000000</td>\n",
              "      <td>35.000000</td>\n",
              "      <td>1.000000</td>\n",
              "      <td>39400.000000</td>\n",
              "      <td>152.000000</td>\n",
              "      <td>227.000000</td>\n",
              "      <td>0.000000</td>\n",
              "    </tr>\n",
              "    <tr>\n",
              "      <th>max</th>\n",
              "      <td>381109.000000</td>\n",
              "      <td>85.000000</td>\n",
              "      <td>1.000000</td>\n",
              "      <td>52.000000</td>\n",
              "      <td>1.000000</td>\n",
              "      <td>540165.000000</td>\n",
              "      <td>163.000000</td>\n",
              "      <td>299.000000</td>\n",
              "      <td>1.000000</td>\n",
              "    </tr>\n",
              "  </tbody>\n",
              "</table>\n",
              "</div>"
            ],
            "text/plain": [
              "                  id            Age  ...        Vintage       Response\n",
              "count  381109.000000  381109.000000  ...  381109.000000  381109.000000\n",
              "mean   190555.000000      38.822584  ...     154.347397       0.122563\n",
              "std    110016.836208      15.511611  ...      83.671304       0.327936\n",
              "min         1.000000      20.000000  ...      10.000000       0.000000\n",
              "25%     95278.000000      25.000000  ...      82.000000       0.000000\n",
              "50%    190555.000000      36.000000  ...     154.000000       0.000000\n",
              "75%    285832.000000      49.000000  ...     227.000000       0.000000\n",
              "max    381109.000000      85.000000  ...     299.000000       1.000000\n",
              "\n",
              "[8 rows x 9 columns]"
            ]
          },
          "metadata": {
            "tags": []
          },
          "execution_count": 3
        }
      ]
    },
    {
      "cell_type": "markdown",
      "metadata": {
        "id": "NSccP6gkztZR"
      },
      "source": [
        "## ข้อมูลอายุ\n"
      ]
    },
    {
      "cell_type": "code",
      "metadata": {
        "id": "v-gcoX--zHHe",
        "colab": {
          "base_uri": "https://localhost:8080/",
          "height": 283
        },
        "outputId": "bab619f3-96d0-42e0-8c20-f0a4b799931b"
      },
      "source": [
        "df[df['Response']==1]['Age'].plot.hist(alpha=0.5) ##ผู้ใช้ที่สนใจส่วนมากเป็นคนอายุประมาณ 35-40 ปี"
      ],
      "execution_count": null,
      "outputs": [
        {
          "output_type": "execute_result",
          "data": {
            "text/plain": [
              "<matplotlib.axes._subplots.AxesSubplot at 0x7fd661c15048>"
            ]
          },
          "metadata": {
            "tags": []
          },
          "execution_count": 5
        },
        {
          "output_type": "display_data",
          "data": {
            "image/png": "[encoded data removed]",
            "text/plain": [
              "<Figure size 432x288 with 1 Axes>"
            ]
          },
          "metadata": {
            "tags": [],
            "needs_background": "light"
          }
        }
      ]
    },
    {
      "cell_type": "code",
      "metadata": {
        "id": "6s0Zi_5-B2ks",
        "colab": {
          "base_uri": "https://localhost:8080/",
          "height": 296
        },
        "outputId": "1e20bc43-0141-4501-bc56-5b0f5e1069d0"
      },
      "source": [
        "age_relate_Premium = pd.DataFrame()\n",
        "age_relate_Premium['Age'] = df['Age']\n",
        "age_relate_Premium['Annual_Premium'] = df['Annual_Premium']\n",
        "age_relate_Premium.plot.scatter(x='Age',y='Annual_Premium') #จำนวนเงินที่จ่ายทุกช่วงอายุเท่าๆกัน\n"
      ],
      "execution_count": null,
      "outputs": [
        {
          "output_type": "execute_result",
          "data": {
            "text/plain": [
              "<matplotlib.axes._subplots.AxesSubplot at 0x7fd661af3208>"
            ]
          },
          "metadata": {
            "tags": []
          },
          "execution_count": 6
        },
        {
          "output_type": "display_data",
          "data": {
            "image/png": "[encoded data removed]",
            "text/plain": [
              "<Figure size 432x288 with 1 Axes>"
            ]
          },
          "metadata": {
            "tags": [],
            "needs_background": "light"
          }
        }
      ]
    },
    {
      "cell_type": "markdown",
      "metadata": {
        "id": "P0L8PklaDB8v"
      },
      "source": [
        "### สรุป\n",
        "\n",
        "\n",
        "*   ผู้ใช้ที่สนใจส่วนมากเป็นคนอายุประมาณ 35-40 ปี **(น่าสนใจ)**\n",
        "*   ในแต่ละอายุจะมีคนที่จ่ายค่า Annual_Premium เท่าๆกันประมาณ น้อยกว่า 150000 และมีคนที่จ่ายเกิน 400000 ขึ้นไปเป็นบางส่วน \n",
        "\n",
        "\n",
        "\n",
        "\n"
      ]
    },
    {
      "cell_type": "markdown",
      "metadata": {
        "id": "t4TZnV6zlp8h"
      },
      "source": [
        "## Driving_License"
      ]
    },
    {
      "cell_type": "code",
      "metadata": {
        "id": "AsnUC_Ykr5b8",
        "colab": {
          "base_uri": "https://localhost:8080/",
          "height": 265
        },
        "outputId": "de546070-1ab9-4393-b088-60bd6116617a"
      },
      "source": [
        "#1\n",
        "df[(df['Driving_License']==1)]['Vehicle_Damage'].value_counts().plot.pie(autopct='%.2f') #คนมีใบขับขี่ก็ยังมีโอกาสเกิดอุบัติเหตุเยอะถึง 50.45% ซึ้งเกินคริ่ง"
      ],
      "execution_count": null,
      "outputs": [
        {
          "output_type": "execute_result",
          "data": {
            "text/plain": [
              "<matplotlib.axes._subplots.AxesSubplot at 0x7f883da59cf8>"
            ]
          },
          "metadata": {
            "tags": []
          },
          "execution_count": 51
        },
        {
          "output_type": "display_data",
          "data": {
            "image/png": "[encoded data removed]",
            "text/plain": [
              "<Figure size 432x288 with 1 Axes>"
            ]
          },
          "metadata": {
            "tags": []
          }
        }
      ]
    },
    {
      "cell_type": "code",
      "metadata": {
        "id": "4gWlRRsslw_g",
        "colab": {
          "base_uri": "https://localhost:8080/",
          "height": 283
        },
        "outputId": "8ebc4af0-b634-43c0-cdc5-cfd35e62b0f8"
      },
      "source": [
        "#2\n",
        "have_license_and_damage= df[(df['Driving_License']==1) & (df['Vehicle_Damage']=='Yes')]\n",
        "have_license= df[(df['Driving_License']==1) & (df['Vehicle_Damage']=='No')]\n",
        "mergDf = pd.DataFrame({\"lc_and_d\":have_license_and_damage['Response'].value_counts(),\n",
        "                       \"lc\":have_license['Response'].value_counts() }, index=range(2))\n",
        "mergDf.T.plot.bar(rot=0,)"
      ],
      "execution_count": null,
      "outputs": [
        {
          "output_type": "execute_result",
          "data": {
            "text/plain": [
              "<matplotlib.axes._subplots.AxesSubplot at 0x7fd661b8c8d0>"
            ]
          },
          "metadata": {
            "tags": []
          },
          "execution_count": 7
        },
        {
          "output_type": "display_data",
          "data": {
            "image/png": "[encoded data removed]",
            "text/plain": [
              "<Figure size 432x288 with 1 Axes>"
            ]
          },
          "metadata": {
            "tags": [],
            "needs_background": "light"
          }
        }
      ]
    },
    {
      "cell_type": "markdown",
      "metadata": {
        "id": "-zXs5NPhsYj8"
      },
      "source": [
        "### สรุป\n",
        "\n",
        "*   คนมีใบขับขี่ ยังมีโอกาสเกิดอุบัติเหตุเยอะถึง 50.45% ซึ่งเกินคริ่ง ไทยคงไม่ต่างกัน555\n",
        "*   จากกราฟ 2 จะเห็นว่าคนที่มีใบขับขี่และเคยประสบอุบัติเหตุมีความสนใจที่จะซื้อประกันระดับหนึ่ง แต่เมื่อดูอีกแท่งหนึ่งซึ่งเป็นแท่งที่มีใบขับขี่ แต่ไม่เคยประสบอุบัติเหตุเลย แทบจะไม่มีคนสนใจ (อันนี้สงสัยเฉยๆเลยลองทำดูนะครับ มันก็เมคเซ้นอยู่แล้ว)\n",
        "\n"
      ]
    },
    {
      "cell_type": "markdown",
      "metadata": {
        "id": "TJzrWlWBHste"
      },
      "source": [
        "## Region"
      ]
    },
    {
      "cell_type": "code",
      "metadata": {
        "id": "f1593XXkIJqq",
        "colab": {
          "base_uri": "https://localhost:8080/",
          "height": 400
        },
        "outputId": "250773a9-a122-44ab-be23-6f659711451f"
      },
      "source": [
        "region = df[['Region_Code']]\n",
        "region['interested'] = df[df['Response']==1]['Region_Code']\n",
        "region.plot.hist(alpha=0.5,title='Region code of data')"
      ],
      "execution_count": null,
      "outputs": [
        {
          "output_type": "stream",
          "text": [
            "/usr/local/lib/python3.6/dist-packages/ipykernel_launcher.py:3: SettingWithCopyWarning: \n",
            "A value is trying to be set on a copy of a slice from a DataFrame.\n",
            "Try using .loc[row_indexer,col_indexer] = value instead\n",
            "\n",
            "See the caveats in the documentation: https://pandas.pydata.org/pandas-docs/stable/user_guide/indexing.html#returning-a-view-versus-a-copy\n",
            "  This is separate from the ipykernel package so we can avoid doing imports until\n"
          ],
          "name": "stderr"
        },
        {
          "output_type": "execute_result",
          "data": {
            "text/plain": [
              "<matplotlib.axes._subplots.AxesSubplot at 0x7fd6612d5f28>"
            ]
          },
          "metadata": {
            "tags": []
          },
          "execution_count": 12
        },
        {
          "output_type": "display_data",
          "data": {
            "image/png": "[encoded data removed]",
            "text/plain": [
              "<Figure size 432x288 with 1 Axes>"
            ]
          },
          "metadata": {
            "tags": [],
            "needs_background": "light"
          }
        }
      ]
    },
    {
      "cell_type": "markdown",
      "metadata": {
        "id": "-hr0XLYcu1vr"
      },
      "source": [
        "### สรุป\n",
        "\n",
        "*   พื้นที่ตัวอย่างส่วยใหญ่อยู่ที่ region code 30 ซึ่งเป็นกลุ่มใหญ่\n",
        "* ความสนใจของคนในพื้นที่เป็นดังกราฟ\n",
        "\n"
      ]
    },
    {
      "cell_type": "markdown",
      "metadata": {
        "id": "wGjTSdhF0AGZ"
      },
      "source": [
        "#ไร้สาระ\n"
      ]
    },
    {
      "cell_type": "markdown",
      "metadata": {
        "id": "WkTpNudN9ysM"
      },
      "source": [
        "##คนไม่มีใบขับขี่ มีคนสนใจทำประกันรถไหม"
      ]
    },
    {
      "cell_type": "code",
      "metadata": {
        "id": "t-stfVQS6DHr",
        "colab": {
          "base_uri": "https://localhost:8080/",
          "height": 282
        },
        "outputId": "b1d1418e-a2bf-40f0-8e6f-87f6f3e04ef9"
      },
      "source": [
        "no_driving_license = df[df['Driving_License']==0]\n",
        "print(\"have :\",len(no_driving_license))\n",
        "no_driving_license = no_driving_license.replace(0,'not Interesting')\n",
        "no_driving_license = no_driving_license.replace(1,'Interesting')\n",
        "no_driving_license['Response'].value_counts().plot.pie(autopct='%.2f') #มีคนต้องการด้วย?"
      ],
      "execution_count": null,
      "outputs": [
        {
          "output_type": "stream",
          "text": [
            "have : 812\n"
          ],
          "name": "stdout"
        },
        {
          "output_type": "execute_result",
          "data": {
            "text/plain": [
              "<matplotlib.axes._subplots.AxesSubplot at 0x7f8844190198>"
            ]
          },
          "metadata": {
            "tags": []
          },
          "execution_count": 24
        },
        {
          "output_type": "display_data",
          "data": {
            "image/png": "[encoded data removed]",
            "text/plain": [
              "<Figure size 432x288 with 1 Axes>"
            ]
          },
          "metadata": {
            "tags": []
          }
        }
      ]
    },
    {
      "cell_type": "code",
      "metadata": {
        "id": "LQ4X-daF_0Pc",
        "colab": {
          "base_uri": "https://localhost:8080/",
          "height": 489
        },
        "outputId": "701330ef-737e-4caf-d633-2f0677c04748"
      },
      "source": [
        "#ใน 5.05 % มีอะไร ทำไมถึงสนใจ\n",
        "no_driving_license = df[(df['Driving_License']==0) & (df['Response']==1)]\n",
        "no_driving_license['Vehicle_Age'].value_counts().plot.bar() #น่าจะมีรถแต่ไม่มีใบขับขี่ \n",
        "no_driving_license.head()"
      ],
      "execution_count": null,
      "outputs": [
        {
          "output_type": "execute_result",
          "data": {
            "text/html": [
              "<div>\n",
              "<style scoped>\n",
              "    .dataframe tbody tr th:only-of-type {\n",
              "        vertical-align: middle;\n",
              "    }\n",
              "\n",
              "    .dataframe tbody tr th {\n",
              "        vertical-align: top;\n",
              "    }\n",
              "\n",
              "    .dataframe thead th {\n",
              "        text-align: right;\n",
              "    }\n",
              "</style>\n",
              "<table border=\"1\" class=\"dataframe\">\n",
              "  <thead>\n",
              "    <tr style=\"text-align: right;\">\n",
              "      <th></th>\n",
              "      <th>id</th>\n",
              "      <th>Gender</th>\n",
              "      <th>Age</th>\n",
              "      <th>Driving_License</th>\n",
              "      <th>Region_Code</th>\n",
              "      <th>Previously_Insured</th>\n",
              "      <th>Vehicle_Age</th>\n",
              "      <th>Vehicle_Damage</th>\n",
              "      <th>Annual_Premium</th>\n",
              "      <th>Policy_Sales_Channel</th>\n",
              "      <th>Vintage</th>\n",
              "      <th>Response</th>\n",
              "    </tr>\n",
              "  </thead>\n",
              "  <tbody>\n",
              "    <tr>\n",
              "      <th>9257</th>\n",
              "      <td>9258</td>\n",
              "      <td>Female</td>\n",
              "      <td>53</td>\n",
              "      <td>0</td>\n",
              "      <td>8.0</td>\n",
              "      <td>0</td>\n",
              "      <td>1-2 Year</td>\n",
              "      <td>Yes</td>\n",
              "      <td>39478.0</td>\n",
              "      <td>25.0</td>\n",
              "      <td>234</td>\n",
              "      <td>1</td>\n",
              "    </tr>\n",
              "    <tr>\n",
              "      <th>20930</th>\n",
              "      <td>20931</td>\n",
              "      <td>Female</td>\n",
              "      <td>44</td>\n",
              "      <td>0</td>\n",
              "      <td>3.0</td>\n",
              "      <td>0</td>\n",
              "      <td>1-2 Year</td>\n",
              "      <td>Yes</td>\n",
              "      <td>35644.0</td>\n",
              "      <td>26.0</td>\n",
              "      <td>272</td>\n",
              "      <td>1</td>\n",
              "    </tr>\n",
              "    <tr>\n",
              "      <th>26167</th>\n",
              "      <td>26168</td>\n",
              "      <td>Male</td>\n",
              "      <td>63</td>\n",
              "      <td>0</td>\n",
              "      <td>28.0</td>\n",
              "      <td>0</td>\n",
              "      <td>1-2 Year</td>\n",
              "      <td>Yes</td>\n",
              "      <td>2630.0</td>\n",
              "      <td>122.0</td>\n",
              "      <td>44</td>\n",
              "      <td>1</td>\n",
              "    </tr>\n",
              "    <tr>\n",
              "      <th>30954</th>\n",
              "      <td>30955</td>\n",
              "      <td>Male</td>\n",
              "      <td>45</td>\n",
              "      <td>0</td>\n",
              "      <td>28.0</td>\n",
              "      <td>0</td>\n",
              "      <td>1-2 Year</td>\n",
              "      <td>Yes</td>\n",
              "      <td>51397.0</td>\n",
              "      <td>124.0</td>\n",
              "      <td>43</td>\n",
              "      <td>1</td>\n",
              "    </tr>\n",
              "    <tr>\n",
              "      <th>35296</th>\n",
              "      <td>35297</td>\n",
              "      <td>Female</td>\n",
              "      <td>67</td>\n",
              "      <td>0</td>\n",
              "      <td>28.0</td>\n",
              "      <td>0</td>\n",
              "      <td>1-2 Year</td>\n",
              "      <td>Yes</td>\n",
              "      <td>56891.0</td>\n",
              "      <td>26.0</td>\n",
              "      <td>42</td>\n",
              "      <td>1</td>\n",
              "    </tr>\n",
              "  </tbody>\n",
              "</table>\n",
              "</div>"
            ],
            "text/plain": [
              "          id  Gender  Age  ...  Policy_Sales_Channel  Vintage  Response\n",
              "9257    9258  Female   53  ...                  25.0      234         1\n",
              "20930  20931  Female   44  ...                  26.0      272         1\n",
              "26167  26168    Male   63  ...                 122.0       44         1\n",
              "30954  30955    Male   45  ...                 124.0       43         1\n",
              "35296  35297  Female   67  ...                  26.0       42         1\n",
              "\n",
              "[5 rows x 12 columns]"
            ]
          },
          "metadata": {
            "tags": []
          },
          "execution_count": 25
        },
        {
          "output_type": "display_data",
          "data": {
            "image/png": "[encoded data removed]",
            "text/plain": [
              "<Figure size 432x288 with 1 Axes>"
            ]
          },
          "metadata": {
            "tags": [],
            "needs_background": "light"
          }
        }
      ]
    },
    {
      "cell_type": "code",
      "metadata": {
        "id": "_jdPGlQXEZ0b",
        "colab": {
          "base_uri": "https://localhost:8080/",
          "height": 265
        },
        "cellView": "code",
        "outputId": "291936bf-90ae-46b2-d1ca-034457971b9f"
      },
      "source": [
        "no_driving_license['Vehicle_Damage'].value_counts().plot.pie(autopct='%.2f') #มีอุบัติเหตุมาก่อนถึงมาทำประกัน"
      ],
      "execution_count": null,
      "outputs": [
        {
          "output_type": "execute_result",
          "data": {
            "text/plain": [
              "<matplotlib.axes._subplots.AxesSubplot at 0x7f884406f4a8>"
            ]
          },
          "metadata": {
            "tags": []
          },
          "execution_count": 26
        },
        {
          "output_type": "display_data",
          "data": {
            "image/png": "[encoded data removed]",
            "text/plain": [
              "<Figure size 432x288 with 1 Axes>"
            ]
          },
          "metadata": {
            "tags": []
          }
        }
      ]
    },
    {
      "cell_type": "markdown",
      "metadata": {
        "id": "r4BZ2jBzt5TC"
      },
      "source": [
        "### สรุป\n",
        "*   มีคนที่ไม่มีใบขับขี่แต่อยากได้ประกัน\n",
        "*   คนเหล่านี้มีรถซึ่งจากข้อมูลพบว่าไม่มีคนที่มีอายุรถน้อยกว่า 1 ปี อาจจะเป็นไปได้ทั้ง รถมือสอง หรือสายเก๋าที่หลบตำรวจ\n",
        "*  มีอุบัติเหตุกันทุกคน..... น่าจะมาจากสาเหตุมีอุบัติเหตุ เลยทำให้สนใจประกัน\n",
        "\n"
      ]
    }
  ]
}