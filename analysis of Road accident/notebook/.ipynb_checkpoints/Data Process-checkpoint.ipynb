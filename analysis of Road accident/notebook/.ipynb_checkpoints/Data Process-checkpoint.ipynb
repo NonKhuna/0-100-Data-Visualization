{
 "cells": [
  {
   "cell_type": "markdown",
   "metadata": {},
   "source": [
    "# import Data"
   ]
  },
  {
   "cell_type": "code",
   "execution_count": 3,
   "metadata": {},
   "outputs": [],
   "source": [
    "import pandas as pd\n",
    "import seaborn as sns\n",
    "import matplotlib.pyplot as plt\n"
   ]
  },
  {
   "cell_type": "code",
   "execution_count": 167,
   "metadata": {},
   "outputs": [
    {
     "name": "stderr",
     "output_type": "stream",
     "text": [
      "D:\\Users\\GL503 HERO\\anaconda3\\lib\\site-packages\\IPython\\core\\interactiveshell.py:3146: DtypeWarning: Columns (8,9,10,11,12,19,20) have mixed types.Specify dtype option on import or set low_memory=False.\n",
      "  has_raised = await self.run_ast_nodes(code_ast.body, cell_name,\n"
     ]
    },
    {
     "data": {
      "text/html": [
       "<div>\n",
       "<style scoped>\n",
       "    .dataframe tbody tr th:only-of-type {\n",
       "        vertical-align: middle;\n",
       "    }\n",
       "\n",
       "    .dataframe tbody tr th {\n",
       "        vertical-align: top;\n",
       "    }\n",
       "\n",
       "    .dataframe thead th {\n",
       "        text-align: right;\n",
       "    }\n",
       "</style>\n",
       "<table border=\"1\" class=\"dataframe\">\n",
       "  <thead>\n",
       "    <tr style=\"text-align: right;\">\n",
       "      <th></th>\n",
       "      <th>Unnamed: 0</th>\n",
       "      <th>id</th>\n",
       "      <th>DEAD_YEAR(Budha)</th>\n",
       "      <th>DEAD_YEAR</th>\n",
       "      <th>Age</th>\n",
       "      <th>Sex</th>\n",
       "      <th>BirthYear</th>\n",
       "      <th>NationalityId</th>\n",
       "      <th>Tumbol</th>\n",
       "      <th>District</th>\n",
       "      <th>...</th>\n",
       "      <th>DateRec</th>\n",
       "      <th>TimeRec</th>\n",
       "      <th>AccSubDist</th>\n",
       "      <th>AccDist</th>\n",
       "      <th>AccProv</th>\n",
       "      <th>AccLat</th>\n",
       "      <th>AccLong</th>\n",
       "      <th>ICD-10</th>\n",
       "      <th>Vehicle</th>\n",
       "      <th>new_Age</th>\n",
       "    </tr>\n",
       "  </thead>\n",
       "  <tbody>\n",
       "    <tr>\n",
       "      <th>0</th>\n",
       "      <td>0</td>\n",
       "      <td>8594771</td>\n",
       "      <td>2554</td>\n",
       "      <td>2011</td>\n",
       "      <td>21.0</td>\n",
       "      <td>1.0</td>\n",
       "      <td>1989.0</td>\n",
       "      <td>99.0</td>\n",
       "      <td>บึงสามพัน</td>\n",
       "      <td>บึงสามพัน</td>\n",
       "      <td>...</td>\n",
       "      <td>1/1/2011</td>\n",
       "      <td>0:25:00</td>\n",
       "      <td>บึงสามพัน</td>\n",
       "      <td>บึงสามพัน</td>\n",
       "      <td>เพชรบูรณ์</td>\n",
       "      <td>15.7941</td>\n",
       "      <td>101.007</td>\n",
       "      <td>V892</td>\n",
       "      <td>รถอื่นๆ</td>\n",
       "      <td>22.0</td>\n",
       "    </tr>\n",
       "    <tr>\n",
       "      <th>1</th>\n",
       "      <td>1</td>\n",
       "      <td>8594772</td>\n",
       "      <td>2554</td>\n",
       "      <td>2011</td>\n",
       "      <td>23.0</td>\n",
       "      <td>1.0</td>\n",
       "      <td>1987.0</td>\n",
       "      <td>99.0</td>\n",
       "      <td>พังกาญจน์</td>\n",
       "      <td>พนม</td>\n",
       "      <td>...</td>\n",
       "      <td>1/1/2011</td>\n",
       "      <td>6:35:00</td>\n",
       "      <td>พังกาญจน์</td>\n",
       "      <td>พนม</td>\n",
       "      <td>สุราษฎร์ธานี</td>\n",
       "      <td>8.91621</td>\n",
       "      <td>98.8904</td>\n",
       "      <td>V299</td>\n",
       "      <td>รถจักรยานยนต์</td>\n",
       "      <td>24.0</td>\n",
       "    </tr>\n",
       "    <tr>\n",
       "      <th>2</th>\n",
       "      <td>2</td>\n",
       "      <td>8594773</td>\n",
       "      <td>2554</td>\n",
       "      <td>2011</td>\n",
       "      <td>26.0</td>\n",
       "      <td>1.0</td>\n",
       "      <td>1984.0</td>\n",
       "      <td>99.0</td>\n",
       "      <td>จำปาโมง</td>\n",
       "      <td>บ้านผือ</td>\n",
       "      <td>...</td>\n",
       "      <td>1/1/2011</td>\n",
       "      <td>19:00:00</td>\n",
       "      <td>บ้านฉาง</td>\n",
       "      <td>บ้านฉาง</td>\n",
       "      <td>ระยอง</td>\n",
       "      <td>NaN</td>\n",
       "      <td>NaN</td>\n",
       "      <td>V234</td>\n",
       "      <td>รถจักรยานยนต์</td>\n",
       "      <td>27.0</td>\n",
       "    </tr>\n",
       "    <tr>\n",
       "      <th>3</th>\n",
       "      <td>3</td>\n",
       "      <td>8594774</td>\n",
       "      <td>2554</td>\n",
       "      <td>2011</td>\n",
       "      <td>16.0</td>\n",
       "      <td>1.0</td>\n",
       "      <td>1994.0</td>\n",
       "      <td>99.0</td>\n",
       "      <td>ปลักแรด</td>\n",
       "      <td>บางระกำ</td>\n",
       "      <td>...</td>\n",
       "      <td>1/1/2011</td>\n",
       "      <td>2:00:00</td>\n",
       "      <td>ปลักแรด</td>\n",
       "      <td>บางระกำ</td>\n",
       "      <td>พิษณุโลก</td>\n",
       "      <td>16.663</td>\n",
       "      <td>100.121</td>\n",
       "      <td>V429</td>\n",
       "      <td>รถยนต์</td>\n",
       "      <td>17.0</td>\n",
       "    </tr>\n",
       "    <tr>\n",
       "      <th>4</th>\n",
       "      <td>4</td>\n",
       "      <td>8594775</td>\n",
       "      <td>2554</td>\n",
       "      <td>2011</td>\n",
       "      <td>12.0</td>\n",
       "      <td>1.0</td>\n",
       "      <td>1998.0</td>\n",
       "      <td>99.0</td>\n",
       "      <td>ปลักแรด</td>\n",
       "      <td>บางระกำ</td>\n",
       "      <td>...</td>\n",
       "      <td>1/1/2011</td>\n",
       "      <td>2:00:00</td>\n",
       "      <td>ปลักแรด</td>\n",
       "      <td>บางระกำ</td>\n",
       "      <td>พิษณุโลก</td>\n",
       "      <td>16.663</td>\n",
       "      <td>100.121</td>\n",
       "      <td>V429</td>\n",
       "      <td>รถยนต์</td>\n",
       "      <td>13.0</td>\n",
       "    </tr>\n",
       "  </tbody>\n",
       "</table>\n",
       "<p>5 rows × 24 columns</p>\n",
       "</div>"
      ],
      "text/plain": [
       "   Unnamed: 0       id  DEAD_YEAR(Budha)  DEAD_YEAR   Age  Sex  BirthYear  \\\n",
       "0           0  8594771              2554       2011  21.0  1.0     1989.0   \n",
       "1           1  8594772              2554       2011  23.0  1.0     1987.0   \n",
       "2           2  8594773              2554       2011  26.0  1.0     1984.0   \n",
       "3           3  8594774              2554       2011  16.0  1.0     1994.0   \n",
       "4           4  8594775              2554       2011  12.0  1.0     1998.0   \n",
       "\n",
       "   NationalityId     Tumbol   District  ...   DateRec   TimeRec AccSubDist  \\\n",
       "0           99.0  บึงสามพัน  บึงสามพัน  ...  1/1/2011   0:25:00  บึงสามพัน   \n",
       "1           99.0  พังกาญจน์        พนม  ...  1/1/2011   6:35:00  พังกาญจน์   \n",
       "2           99.0    จำปาโมง    บ้านผือ  ...  1/1/2011  19:00:00    บ้านฉาง   \n",
       "3           99.0    ปลักแรด    บางระกำ  ...  1/1/2011   2:00:00    ปลักแรด   \n",
       "4           99.0    ปลักแรด    บางระกำ  ...  1/1/2011   2:00:00    ปลักแรด   \n",
       "\n",
       "     AccDist       AccProv   AccLat  AccLong ICD-10        Vehicle new_Age  \n",
       "0  บึงสามพัน     เพชรบูรณ์  15.7941  101.007   V892        รถอื่นๆ    22.0  \n",
       "1        พนม  สุราษฎร์ธานี  8.91621  98.8904   V299  รถจักรยานยนต์    24.0  \n",
       "2    บ้านฉาง         ระยอง      NaN      NaN   V234  รถจักรยานยนต์    27.0  \n",
       "3    บางระกำ      พิษณุโลก   16.663  100.121   V429         รถยนต์    17.0  \n",
       "4    บางระกำ      พิษณุโลก   16.663  100.121   V429         รถยนต์    13.0  \n",
       "\n",
       "[5 rows x 24 columns]"
      ]
     },
     "execution_count": 167,
     "metadata": {},
     "output_type": "execute_result"
    }
   ],
   "source": [
    "data = pd.read_csv(\"./3bura_data.csv\")\n",
    "data.head()"
   ]
  },
  {
   "cell_type": "code",
   "execution_count": 168,
   "metadata": {},
   "outputs": [
    {
     "name": "stdout",
     "output_type": "stream",
     "text": [
      "<class 'pandas.core.frame.DataFrame'>\n",
      "RangeIndex: 170841 entries, 0 to 170840\n",
      "Data columns (total 24 columns):\n",
      " #   Column            Non-Null Count   Dtype  \n",
      "---  ------            --------------   -----  \n",
      " 0   Unnamed: 0        170841 non-null  int64  \n",
      " 1   id                170841 non-null  int64  \n",
      " 2   DEAD_YEAR(Budha)  170841 non-null  int64  \n",
      " 3   DEAD_YEAR         170841 non-null  int64  \n",
      " 4   Age               170841 non-null  float64\n",
      " 5   Sex               167543 non-null  float64\n",
      " 6   BirthYear         141883 non-null  float64\n",
      " 7   NationalityId     107115 non-null  float64\n",
      " 8   Tumbol            25917 non-null   object \n",
      " 9   District          56999 non-null   object \n",
      " 10  Province          57105 non-null   object \n",
      " 11  RiskHelmet        3704 non-null    object \n",
      " 12  RiskSafetyBelt    1304 non-null    object \n",
      " 13  DeadDate          170841 non-null  object \n",
      " 14  DateRec           82924 non-null   object \n",
      " 15  TimeRec           82924 non-null   object \n",
      " 16  AccSubDist        81459 non-null   object \n",
      " 17  AccDist           81760 non-null   object \n",
      " 18  AccProv           170837 non-null  object \n",
      " 19  AccLat            80591 non-null   object \n",
      " 20  AccLong           80572 non-null   object \n",
      " 21  ICD-10            152049 non-null  object \n",
      " 22  Vehicle           170841 non-null  object \n",
      " 23  new_Age           141883 non-null  float64\n",
      "dtypes: float64(5), int64(4), object(15)\n",
      "memory usage: 31.3+ MB\n"
     ]
    }
   ],
   "source": [
    "data.info()"
   ]
  },
  {
   "cell_type": "code",
   "execution_count": 169,
   "metadata": {},
   "outputs": [
    {
     "data": {
      "text/html": [
       "<div>\n",
       "<style scoped>\n",
       "    .dataframe tbody tr th:only-of-type {\n",
       "        vertical-align: middle;\n",
       "    }\n",
       "\n",
       "    .dataframe tbody tr th {\n",
       "        vertical-align: top;\n",
       "    }\n",
       "\n",
       "    .dataframe thead th {\n",
       "        text-align: right;\n",
       "    }\n",
       "</style>\n",
       "<table border=\"1\" class=\"dataframe\">\n",
       "  <thead>\n",
       "    <tr style=\"text-align: right;\">\n",
       "      <th></th>\n",
       "      <th>Unnamed: 0</th>\n",
       "      <th>id</th>\n",
       "      <th>DEAD_YEAR(Budha)</th>\n",
       "      <th>DEAD_YEAR</th>\n",
       "      <th>Age</th>\n",
       "      <th>Sex</th>\n",
       "      <th>BirthYear</th>\n",
       "      <th>NationalityId</th>\n",
       "      <th>new_Age</th>\n",
       "    </tr>\n",
       "  </thead>\n",
       "  <tbody>\n",
       "    <tr>\n",
       "      <th>count</th>\n",
       "      <td>170841.000000</td>\n",
       "      <td>1.708410e+05</td>\n",
       "      <td>170841.000000</td>\n",
       "      <td>170841.000000</td>\n",
       "      <td>170841.000000</td>\n",
       "      <td>167543.000000</td>\n",
       "      <td>141883.000000</td>\n",
       "      <td>107115.000000</td>\n",
       "      <td>141883.000000</td>\n",
       "    </tr>\n",
       "    <tr>\n",
       "      <th>mean</th>\n",
       "      <td>107206.172663</td>\n",
       "      <td>9.196428e+06</td>\n",
       "      <td>2558.582231</td>\n",
       "      <td>2015.582231</td>\n",
       "      <td>39.865436</td>\n",
       "      <td>1.209976</td>\n",
       "      <td>1975.976896</td>\n",
       "      <td>98.999851</td>\n",
       "      <td>39.680786</td>\n",
       "    </tr>\n",
       "    <tr>\n",
       "      <th>std</th>\n",
       "      <td>57361.637521</td>\n",
       "      <td>6.633965e+05</td>\n",
       "      <td>2.740753</td>\n",
       "      <td>2.740753</td>\n",
       "      <td>19.654768</td>\n",
       "      <td>0.409018</td>\n",
       "      <td>22.072309</td>\n",
       "      <td>2.392284</td>\n",
       "      <td>21.944289</td>\n",
       "    </tr>\n",
       "    <tr>\n",
       "      <th>min</th>\n",
       "      <td>0.000000</td>\n",
       "      <td>8.594771e+06</td>\n",
       "      <td>2554.000000</td>\n",
       "      <td>2011.000000</td>\n",
       "      <td>1.000000</td>\n",
       "      <td>0.000000</td>\n",
       "      <td>-239.000000</td>\n",
       "      <td>9.000000</td>\n",
       "      <td>-40.000000</td>\n",
       "    </tr>\n",
       "    <tr>\n",
       "      <th>25%</th>\n",
       "      <td>60874.000000</td>\n",
       "      <td>8.657563e+06</td>\n",
       "      <td>2556.000000</td>\n",
       "      <td>2013.000000</td>\n",
       "      <td>23.000000</td>\n",
       "      <td>1.000000</td>\n",
       "      <td>1962.000000</td>\n",
       "      <td>99.000000</td>\n",
       "      <td>22.000000</td>\n",
       "    </tr>\n",
       "    <tr>\n",
       "      <th>50%</th>\n",
       "      <td>109576.000000</td>\n",
       "      <td>8.706268e+06</td>\n",
       "      <td>2559.000000</td>\n",
       "      <td>2016.000000</td>\n",
       "      <td>38.000000</td>\n",
       "      <td>1.000000</td>\n",
       "      <td>1978.000000</td>\n",
       "      <td>99.000000</td>\n",
       "      <td>37.000000</td>\n",
       "    </tr>\n",
       "    <tr>\n",
       "      <th>75%</th>\n",
       "      <td>156607.000000</td>\n",
       "      <td>9.804140e+06</td>\n",
       "      <td>2561.000000</td>\n",
       "      <td>2018.000000</td>\n",
       "      <td>54.000000</td>\n",
       "      <td>1.000000</td>\n",
       "      <td>1993.000000</td>\n",
       "      <td>99.000000</td>\n",
       "      <td>54.000000</td>\n",
       "    </tr>\n",
       "    <tr>\n",
       "      <th>max</th>\n",
       "      <td>201378.000000</td>\n",
       "      <td>1.046172e+07</td>\n",
       "      <td>2563.000000</td>\n",
       "      <td>2020.000000</td>\n",
       "      <td>149.000000</td>\n",
       "      <td>2.000000</td>\n",
       "      <td>2054.000000</td>\n",
       "      <td>259.000000</td>\n",
       "      <td>2252.000000</td>\n",
       "    </tr>\n",
       "  </tbody>\n",
       "</table>\n",
       "</div>"
      ],
      "text/plain": [
       "          Unnamed: 0            id  DEAD_YEAR(Budha)      DEAD_YEAR  \\\n",
       "count  170841.000000  1.708410e+05     170841.000000  170841.000000   \n",
       "mean   107206.172663  9.196428e+06       2558.582231    2015.582231   \n",
       "std     57361.637521  6.633965e+05          2.740753       2.740753   \n",
       "min         0.000000  8.594771e+06       2554.000000    2011.000000   \n",
       "25%     60874.000000  8.657563e+06       2556.000000    2013.000000   \n",
       "50%    109576.000000  8.706268e+06       2559.000000    2016.000000   \n",
       "75%    156607.000000  9.804140e+06       2561.000000    2018.000000   \n",
       "max    201378.000000  1.046172e+07       2563.000000    2020.000000   \n",
       "\n",
       "                 Age            Sex      BirthYear  NationalityId  \\\n",
       "count  170841.000000  167543.000000  141883.000000  107115.000000   \n",
       "mean       39.865436       1.209976    1975.976896      98.999851   \n",
       "std        19.654768       0.409018      22.072309       2.392284   \n",
       "min         1.000000       0.000000    -239.000000       9.000000   \n",
       "25%        23.000000       1.000000    1962.000000      99.000000   \n",
       "50%        38.000000       1.000000    1978.000000      99.000000   \n",
       "75%        54.000000       1.000000    1993.000000      99.000000   \n",
       "max       149.000000       2.000000    2054.000000     259.000000   \n",
       "\n",
       "             new_Age  \n",
       "count  141883.000000  \n",
       "mean       39.680786  \n",
       "std        21.944289  \n",
       "min       -40.000000  \n",
       "25%        22.000000  \n",
       "50%        37.000000  \n",
       "75%        54.000000  \n",
       "max      2252.000000  "
      ]
     },
     "execution_count": 169,
     "metadata": {},
     "output_type": "execute_result"
    }
   ],
   "source": [
    "data.describe()"
   ]
  },
  {
   "cell_type": "markdown",
   "metadata": {},
   "source": [
    "## How long did thay live after the accident "
   ]
  },
  {
   "cell_type": "code",
   "execution_count": 170,
   "metadata": {},
   "outputs": [],
   "source": [
    "data['DateRec'] = pd.to_datetime(data['DateRec'])\n",
    "data['DeadDate'] = pd.to_datetime(data['DeadDate'])"
   ]
  },
  {
   "cell_type": "code",
   "execution_count": 171,
   "metadata": {},
   "outputs": [
    {
     "data": {
      "text/plain": [
       "count    82924.000000\n",
       "mean         1.369037\n",
       "std         51.681298\n",
       "min       -366.000000\n",
       "25%          0.000000\n",
       "50%          0.000000\n",
       "75%          1.000000\n",
       "max        373.000000\n",
       "Name: day_alive, dtype: float64"
      ]
     },
     "execution_count": 171,
     "metadata": {},
     "output_type": "execute_result"
    }
   ],
   "source": [
    "data['day_alive'] = (data['DeadDate'] - data['DateRec']).dt.days\n",
    "data['day_alive'].describe()"
   ]
  },
  {
   "cell_type": "code",
   "execution_count": 172,
   "metadata": {
    "scrolled": true
   },
   "outputs": [
    {
     "data": {
      "image/png": "[encoded data removed]",
      "text/plain": [
       "<Figure size 720x360 with 1 Axes>"
      ]
     },
     "metadata": {
      "needs_background": "light"
     },
     "output_type": "display_data"
    }
   ],
   "source": [
    "fig_dims = (10, 5)\n",
    "fig, ax = plt.subplots(figsize=fig_dims)\n",
    "g = sns.countplot(x=\"day_alive\", data=data[(data['day_alive']>=0) & (data['day_alive']<=10)], ax=ax)\n",
    "g.set_xticklabels(g.get_xticklabels(), rotation=30)\n",
    "\n",
    "plt.title(\"Live after the accident\")\n",
    "plt.show()"
   ]
  },
  {
   "cell_type": "markdown",
   "metadata": {},
   "source": [
    "### Conclude :\n",
    "- It make sense, but I try."
   ]
  },
  {
   "cell_type": "markdown",
   "metadata": {},
   "source": [
    "## Range Age"
   ]
  },
  {
   "cell_type": "code",
   "execution_count": 173,
   "metadata": {},
   "outputs": [],
   "source": [
    "def age_range(x) :\n",
    "    for i in range(1,17) :\n",
    "        left = int((i-1)*10)\n",
    "        right = int((i*10)-1)\n",
    "        if left <= x <= right :\n",
    "            text = str(left) +' to ' + str(right)\n",
    "            return text"
   ]
  },
  {
   "cell_type": "code",
   "execution_count": 174,
   "metadata": {},
   "outputs": [
    {
     "data": {
      "image/png": "[encoded data removed]",
      "text/plain": [
       "<Figure size 1080x720 with 1 Axes>"
      ]
     },
     "metadata": {
      "needs_background": "light"
     },
     "output_type": "display_data"
    }
   ],
   "source": [
    "# Dangerous Age\n",
    "# Sex 1 = male \n",
    "#     2 = Female\n",
    "fig_dims = (15,10)\n",
    "fig, ax = plt.subplots(figsize=fig_dims)\n",
    "\n",
    "age_data = pd.DataFrame()\n",
    "age_data['Age'] = data['Age'].apply(age_range)\n",
    "age_data['Sex'] = data['Sex'].apply(lambda x:\"Male\" if x==1 else \"Female\")\n",
    "\n",
    "g = sns.countplot(x=\"Age\", hue='Sex', data=age_data, ax=ax)\n",
    "g.set_xticklabels(g.get_xticklabels(), rotation=45)\n",
    "\n",
    "plt.xlabel(\"Range_Age\")\n",
    "plt.title(\"Count the deaths of age range\")\n",
    "plt.show()"
   ]
  },
  {
   "cell_type": "markdown",
   "metadata": {},
   "source": [
    "# Vehicle behavior"
   ]
  },
  {
   "cell_type": "code",
   "execution_count": 175,
   "metadata": {},
   "outputs": [],
   "source": [
    "# rename Vehicle column\n",
    "vehicle_track = {\"รถจักรยานยนต์\":\"Motorcycle\",\n",
    "                \"รถอื่นๆ\" : \"Other\",\n",
    "                 \"รถยนต์\" : \"Car\",\n",
    "                 \"คนเดินเท้า\" : \"Pedestrian\",\n",
    "                 \"รถบรรทุกขนาดเล็ก/รถตู้\" : \"Small trucks/vans\",\n",
    "                 \"รถจักรยาน\" : \"Bicycle\",\n",
    "                 \"รถบรรทุกหนัก\" : \"Big trucks\",\n",
    "                 \"สามล้อ\" : \"Tuktuk\",\n",
    "                 \"รถโดยสาร\" : \"Bus\" ,\n",
    "                 \"รถเพื่อการเกษตร\" : \"Agricultural vehicles\"\n",
    "                }\n",
    "data['Vehicle'] = data['Vehicle'].map(vehicle_track)"
   ]
  },
  {
   "cell_type": "code",
   "execution_count": 176,
   "metadata": {},
   "outputs": [
    {
     "data": {
      "image/png": "[encoded data removed]",
      "text/plain": [
       "<Figure size 720x432 with 1 Axes>"
      ]
     },
     "metadata": {
      "needs_background": "light"
     },
     "output_type": "display_data"
    }
   ],
   "source": [
    "fix, ax = plt.subplots(figsize=(10,6))\n",
    "g = sns.countplot(x='Vehicle', data=data, ax=ax)\n",
    "g.set_xticklabels(g.get_xticklabels(), rotation=45)\n",
    "plt.show()"
   ]
  },
  {
   "cell_type": "code",
   "execution_count": 203,
   "metadata": {},
   "outputs": [
    {
     "name": "stdout",
     "output_type": "stream",
     "text": [
      "Don't Have    2600\n",
      "Have           910\n",
      "Name: RiskHelmet, dtype: int64\n",
      "Don't Have    853\n",
      "Have           49\n",
      "Name: RiskSafetyBelt, dtype: int64\n"
     ]
    }
   ],
   "source": [
    "map_risksafety = {'ไม่มี':\"Don't Have\",\"มี\":\"Have\"}\n",
    "\n",
    "vehicle_helmet = ['Motorcycle','Tuktuk','Bicycle','Other']\n",
    "vehicle_safetybelt = ['Car','Small trucks/vans','Big trucks','Bus','Other']\n",
    "\n",
    "riskhelmet_dat = data[data['Vehicle'].isin(vehicle_helmet)]\n",
    "riskhelmet_dat = riskhelmet_dat['RiskHelmet'].map(map_risksafety)\n",
    "\n",
    "safetybelt_dat = data[data['Vehicle'].isin(vehicle_safetybelt)]\n",
    "safetybelt_dat = safetybelt_dat['RiskSafetyBelt'].map(map_risksafety)\n",
    "\n",
    "print(riskhelmet_dat.value_counts())\n",
    "print(safetybelt_dat.value_counts())"
   ]
  },
  {
   "cell_type": "code",
   "execution_count": 218,
   "metadata": {},
   "outputs": [
    {
     "data": {
      "image/png": "[encoded data removed]",
      "text/plain": [
       "<Figure size 720x360 with 2 Axes>"
      ]
     },
     "metadata": {},
     "output_type": "display_data"
    }
   ],
   "source": [
    "# Rate accident when driver were safety.\n",
    "fig, ax = plt.subplots(1, 2, figsize=(10,5))\n",
    "\n",
    "riskhelmet_dat.value_counts().plot.pie(ax=ax[0], sharey=True, subplots=True)\n",
    "safetybelt_dat.value_counts().plot.pie(ax=ax[1], title='', subplots=True)\n",
    "\n",
    "ax[0].set_title(\"Have a helmet?\")\n",
    "ax[1].set_title(\"Have a saftyBelt?\")\n",
    "plt.show()"
   ]
  },
  {
   "cell_type": "markdown",
   "metadata": {},
   "source": [
    "Having helmet is safety than."
   ]
  },
  {
   "cell_type": "markdown",
   "metadata": {},
   "source": [
    "# Day analysis\n",
    "- what time does an accident usually heppend?"
   ]
  },
  {
   "cell_type": "code",
   "execution_count": 93,
   "metadata": {},
   "outputs": [
    {
     "data": {
      "text/html": [
       "<div>\n",
       "<style scoped>\n",
       "    .dataframe tbody tr th:only-of-type {\n",
       "        vertical-align: middle;\n",
       "    }\n",
       "\n",
       "    .dataframe tbody tr th {\n",
       "        vertical-align: top;\n",
       "    }\n",
       "\n",
       "    .dataframe thead th {\n",
       "        text-align: right;\n",
       "    }\n",
       "</style>\n",
       "<table border=\"1\" class=\"dataframe\">\n",
       "  <thead>\n",
       "    <tr style=\"text-align: right;\">\n",
       "      <th></th>\n",
       "      <th>Unnamed: 0</th>\n",
       "      <th>id</th>\n",
       "      <th>DEAD_YEAR(Budha)</th>\n",
       "      <th>DEAD_YEAR</th>\n",
       "      <th>Age</th>\n",
       "      <th>Sex</th>\n",
       "      <th>BirthYear</th>\n",
       "      <th>NationalityId</th>\n",
       "      <th>Tumbol</th>\n",
       "      <th>District</th>\n",
       "      <th>...</th>\n",
       "      <th>DateRec</th>\n",
       "      <th>TimeRec</th>\n",
       "      <th>AccSubDist</th>\n",
       "      <th>AccDist</th>\n",
       "      <th>AccProv</th>\n",
       "      <th>AccLat</th>\n",
       "      <th>AccLong</th>\n",
       "      <th>ICD-10</th>\n",
       "      <th>Vehicle</th>\n",
       "      <th>new_Age</th>\n",
       "    </tr>\n",
       "    <tr>\n",
       "      <th>Hour</th>\n",
       "      <th></th>\n",
       "      <th></th>\n",
       "      <th></th>\n",
       "      <th></th>\n",
       "      <th></th>\n",
       "      <th></th>\n",
       "      <th></th>\n",
       "      <th></th>\n",
       "      <th></th>\n",
       "      <th></th>\n",
       "      <th></th>\n",
       "      <th></th>\n",
       "      <th></th>\n",
       "      <th></th>\n",
       "      <th></th>\n",
       "      <th></th>\n",
       "      <th></th>\n",
       "      <th></th>\n",
       "      <th></th>\n",
       "      <th></th>\n",
       "      <th></th>\n",
       "    </tr>\n",
       "  </thead>\n",
       "  <tbody>\n",
       "    <tr>\n",
       "      <th>0.0</th>\n",
       "      <td>3202</td>\n",
       "      <td>3202</td>\n",
       "      <td>3202</td>\n",
       "      <td>3202</td>\n",
       "      <td>3202</td>\n",
       "      <td>3049</td>\n",
       "      <td>3051</td>\n",
       "      <td>1984</td>\n",
       "      <td>918</td>\n",
       "      <td>2113</td>\n",
       "      <td>...</td>\n",
       "      <td>3202</td>\n",
       "      <td>3202</td>\n",
       "      <td>3131</td>\n",
       "      <td>3145</td>\n",
       "      <td>3201</td>\n",
       "      <td>3099</td>\n",
       "      <td>3098</td>\n",
       "      <td>2628</td>\n",
       "      <td>3202</td>\n",
       "      <td>3051</td>\n",
       "    </tr>\n",
       "    <tr>\n",
       "      <th>1.0</th>\n",
       "      <td>3058</td>\n",
       "      <td>3058</td>\n",
       "      <td>3058</td>\n",
       "      <td>3058</td>\n",
       "      <td>3058</td>\n",
       "      <td>2936</td>\n",
       "      <td>2923</td>\n",
       "      <td>1879</td>\n",
       "      <td>859</td>\n",
       "      <td>2046</td>\n",
       "      <td>...</td>\n",
       "      <td>3058</td>\n",
       "      <td>3058</td>\n",
       "      <td>3002</td>\n",
       "      <td>3011</td>\n",
       "      <td>3058</td>\n",
       "      <td>2967</td>\n",
       "      <td>2967</td>\n",
       "      <td>2512</td>\n",
       "      <td>3058</td>\n",
       "      <td>2923</td>\n",
       "    </tr>\n",
       "    <tr>\n",
       "      <th>2.0</th>\n",
       "      <td>2582</td>\n",
       "      <td>2582</td>\n",
       "      <td>2582</td>\n",
       "      <td>2582</td>\n",
       "      <td>2582</td>\n",
       "      <td>2476</td>\n",
       "      <td>2482</td>\n",
       "      <td>1543</td>\n",
       "      <td>730</td>\n",
       "      <td>1726</td>\n",
       "      <td>...</td>\n",
       "      <td>2582</td>\n",
       "      <td>2582</td>\n",
       "      <td>2539</td>\n",
       "      <td>2544</td>\n",
       "      <td>2581</td>\n",
       "      <td>2509</td>\n",
       "      <td>2509</td>\n",
       "      <td>2085</td>\n",
       "      <td>2582</td>\n",
       "      <td>2482</td>\n",
       "    </tr>\n",
       "    <tr>\n",
       "      <th>3.0</th>\n",
       "      <td>2015</td>\n",
       "      <td>2015</td>\n",
       "      <td>2015</td>\n",
       "      <td>2015</td>\n",
       "      <td>2015</td>\n",
       "      <td>1948</td>\n",
       "      <td>1923</td>\n",
       "      <td>1226</td>\n",
       "      <td>632</td>\n",
       "      <td>1362</td>\n",
       "      <td>...</td>\n",
       "      <td>2015</td>\n",
       "      <td>2015</td>\n",
       "      <td>1979</td>\n",
       "      <td>1989</td>\n",
       "      <td>2015</td>\n",
       "      <td>1960</td>\n",
       "      <td>1960</td>\n",
       "      <td>1663</td>\n",
       "      <td>2015</td>\n",
       "      <td>1923</td>\n",
       "    </tr>\n",
       "    <tr>\n",
       "      <th>4.0</th>\n",
       "      <td>1677</td>\n",
       "      <td>1677</td>\n",
       "      <td>1677</td>\n",
       "      <td>1677</td>\n",
       "      <td>1677</td>\n",
       "      <td>1627</td>\n",
       "      <td>1596</td>\n",
       "      <td>1045</td>\n",
       "      <td>460</td>\n",
       "      <td>1134</td>\n",
       "      <td>...</td>\n",
       "      <td>1677</td>\n",
       "      <td>1677</td>\n",
       "      <td>1653</td>\n",
       "      <td>1660</td>\n",
       "      <td>1677</td>\n",
       "      <td>1630</td>\n",
       "      <td>1630</td>\n",
       "      <td>1395</td>\n",
       "      <td>1677</td>\n",
       "      <td>1596</td>\n",
       "    </tr>\n",
       "  </tbody>\n",
       "</table>\n",
       "<p>5 rows × 24 columns</p>\n",
       "</div>"
      ],
      "text/plain": [
       "      Unnamed: 0    id  DEAD_YEAR(Budha)  DEAD_YEAR   Age   Sex  BirthYear  \\\n",
       "Hour                                                                         \n",
       "0.0         3202  3202              3202       3202  3202  3049       3051   \n",
       "1.0         3058  3058              3058       3058  3058  2936       2923   \n",
       "2.0         2582  2582              2582       2582  2582  2476       2482   \n",
       "3.0         2015  2015              2015       2015  2015  1948       1923   \n",
       "4.0         1677  1677              1677       1677  1677  1627       1596   \n",
       "\n",
       "      NationalityId  Tumbol  District  ...  DateRec  TimeRec  AccSubDist  \\\n",
       "Hour                                   ...                                 \n",
       "0.0            1984     918      2113  ...     3202     3202        3131   \n",
       "1.0            1879     859      2046  ...     3058     3058        3002   \n",
       "2.0            1543     730      1726  ...     2582     2582        2539   \n",
       "3.0            1226     632      1362  ...     2015     2015        1979   \n",
       "4.0            1045     460      1134  ...     1677     1677        1653   \n",
       "\n",
       "      AccDist  AccProv  AccLat  AccLong  ICD-10  Vehicle  new_Age  \n",
       "Hour                                                               \n",
       "0.0      3145     3201    3099     3098    2628     3202     3051  \n",
       "1.0      3011     3058    2967     2967    2512     3058     2923  \n",
       "2.0      2544     2581    2509     2509    2085     2582     2482  \n",
       "3.0      1989     2015    1960     1960    1663     2015     1923  \n",
       "4.0      1660     1677    1630     1630    1395     1677     1596  \n",
       "\n",
       "[5 rows x 24 columns]"
      ]
     },
     "execution_count": 93,
     "metadata": {},
     "output_type": "execute_result"
    }
   ],
   "source": [
    "data_time = data.copy()\n",
    "\n",
    "data_time[\"Hour\"] =  pd.to_datetime(data_time[\"TimeRec\"], format='%H:%M:%S').dt.hour\n",
    "day_accident = data_time.groupby(\"Hour\").count()\n",
    "#day_accident.index = pd.to_datetime(day_accident.index, format= '%H:%M:%S')\n",
    "day_accident.head()"
   ]
  },
  {
   "cell_type": "code",
   "execution_count": 142,
   "metadata": {},
   "outputs": [],
   "source": [
    "pop_vehicle = ['Other','Car','Motorcycle','Pedestrian']\n",
    "vehicle_dat = data_time[data_time['Vehicle'].isin(pop_vehicle)].groupby([\"Vehicle\",\"Hour\"]).count()"
   ]
  },
  {
   "cell_type": "code",
   "execution_count": 147,
   "metadata": {},
   "outputs": [
    {
     "data": {
      "image/png": "[encoded data removed]",
      "text/plain": [
       "<Figure size 432x288 with 1 Axes>"
      ]
     },
     "metadata": {
      "needs_background": "light"
     },
     "output_type": "display_data"
    }
   ],
   "source": [
    "# Accident that happend during day.\n",
    "fig, ax = plt.subplots()  \n",
    "ax.plot(day_accident.index, day_accident['id'], label='Total')\n",
    "\n",
    "plt.xlabel(\"Hour\")\n",
    "plt.ylabel(\"Num of Accident\")\n",
    "plt.title(\"Death rate per day\")\n",
    "plt.legend()\n",
    "plt.show()"
   ]
  },
  {
   "cell_type": "code",
   "execution_count": 155,
   "metadata": {},
   "outputs": [
    {
     "data": {
      "image/png": "[encoded data removed]",
      "text/plain": [
       "<Figure size 720x504 with 1 Axes>"
      ]
     },
     "metadata": {
      "needs_background": "light"
     },
     "output_type": "display_data"
    }
   ],
   "source": [
    "fig, ax = plt.subplots(figsize=(10,7))\n",
    "\n",
    "for name in pop_vehicle :\n",
    "    ax.plot(vehicle_dat.loc[name].index, vehicle_dat.loc[name]['id'], label=name)\n",
    "\n",
    "plt.xlabel(\"Hour\")\n",
    "plt.ylabel(\"Num of Accident\")\n",
    "plt.title(\"Death rate per day each popula vehicle\") \n",
    "plt.legend()\n",
    "\n",
    "plt.show()"
   ]
  }
 ],
 "metadata": {
  "kernelspec": {
   "display_name": "Python 3",
   "language": "python",
   "name": "python3"
  },
  "language_info": {
   "codemirror_mode": {
    "name": "ipython",
    "version": 3
   },
   "file_extension": ".py",
   "mimetype": "text/x-python",
   "name": "python",
   "nbconvert_exporter": "python",
   "pygments_lexer": "ipython3",
   "version": "3.8.5"
  }
 },
 "nbformat": 4,
 "nbformat_minor": 4
}
