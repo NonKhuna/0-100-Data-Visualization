{
 "cells": [
  {
   "cell_type": "markdown",
   "metadata": {},
   "source": [
    "# import Data"
   ]
  },
  {
   "cell_type": "code",
   "execution_count": 72,
   "metadata": {},
   "outputs": [],
   "source": [
    "import pandas as pd\n",
    "import seaborn as sns\n",
    "import matplotlib.pyplot as plt\n"
   ]
  },
  {
   "cell_type": "code",
   "execution_count": 73,
   "metadata": {},
   "outputs": [
    {
     "name": "stderr",
     "output_type": "stream",
     "text": [
      "D:\\Users\\GL503 HERO\\anaconda3\\lib\\site-packages\\IPython\\core\\interactiveshell.py:3146: DtypeWarning: Columns (8,9,10,11,12,19,20) have mixed types.Specify dtype option on import or set low_memory=False.\n",
      "  has_raised = await self.run_ast_nodes(code_ast.body, cell_name,\n"
     ]
    },
    {
     "data": {
      "text/html": [
       "<div>\n",
       "<style scoped>\n",
       "    .dataframe tbody tr th:only-of-type {\n",
       "        vertical-align: middle;\n",
       "    }\n",
       "\n",
       "    .dataframe tbody tr th {\n",
       "        vertical-align: top;\n",
       "    }\n",
       "\n",
       "    .dataframe thead th {\n",
       "        text-align: right;\n",
       "    }\n",
       "</style>\n",
       "<table border=\"1\" class=\"dataframe\">\n",
       "  <thead>\n",
       "    <tr style=\"text-align: right;\">\n",
       "      <th></th>\n",
       "      <th>Unnamed: 0</th>\n",
       "      <th>id</th>\n",
       "      <th>DEAD_YEAR(Budha)</th>\n",
       "      <th>DEAD_YEAR</th>\n",
       "      <th>Age</th>\n",
       "      <th>Sex</th>\n",
       "      <th>BirthYear</th>\n",
       "      <th>NationalityId</th>\n",
       "      <th>Tumbol</th>\n",
       "      <th>District</th>\n",
       "      <th>...</th>\n",
       "      <th>DateRec</th>\n",
       "      <th>TimeRec</th>\n",
       "      <th>AccSubDist</th>\n",
       "      <th>AccDist</th>\n",
       "      <th>AccProv</th>\n",
       "      <th>AccLat</th>\n",
       "      <th>AccLong</th>\n",
       "      <th>ICD-10</th>\n",
       "      <th>Vehicle</th>\n",
       "      <th>new_Age</th>\n",
       "    </tr>\n",
       "  </thead>\n",
       "  <tbody>\n",
       "    <tr>\n",
       "      <th>0</th>\n",
       "      <td>0</td>\n",
       "      <td>8594771</td>\n",
       "      <td>2554</td>\n",
       "      <td>2011</td>\n",
       "      <td>21.0</td>\n",
       "      <td>1.0</td>\n",
       "      <td>1989.0</td>\n",
       "      <td>99.0</td>\n",
       "      <td>บึงสามพัน</td>\n",
       "      <td>บึงสามพัน</td>\n",
       "      <td>...</td>\n",
       "      <td>1/1/2011</td>\n",
       "      <td>0:25:00</td>\n",
       "      <td>บึงสามพัน</td>\n",
       "      <td>บึงสามพัน</td>\n",
       "      <td>เพชรบูรณ์</td>\n",
       "      <td>15.7941</td>\n",
       "      <td>101.007</td>\n",
       "      <td>V892</td>\n",
       "      <td>รถอื่นๆ</td>\n",
       "      <td>22.0</td>\n",
       "    </tr>\n",
       "    <tr>\n",
       "      <th>1</th>\n",
       "      <td>1</td>\n",
       "      <td>8594772</td>\n",
       "      <td>2554</td>\n",
       "      <td>2011</td>\n",
       "      <td>23.0</td>\n",
       "      <td>1.0</td>\n",
       "      <td>1987.0</td>\n",
       "      <td>99.0</td>\n",
       "      <td>พังกาญจน์</td>\n",
       "      <td>พนม</td>\n",
       "      <td>...</td>\n",
       "      <td>1/1/2011</td>\n",
       "      <td>6:35:00</td>\n",
       "      <td>พังกาญจน์</td>\n",
       "      <td>พนม</td>\n",
       "      <td>สุราษฎร์ธานี</td>\n",
       "      <td>8.91621</td>\n",
       "      <td>98.8904</td>\n",
       "      <td>V299</td>\n",
       "      <td>รถจักรยานยนต์</td>\n",
       "      <td>24.0</td>\n",
       "    </tr>\n",
       "    <tr>\n",
       "      <th>2</th>\n",
       "      <td>2</td>\n",
       "      <td>8594773</td>\n",
       "      <td>2554</td>\n",
       "      <td>2011</td>\n",
       "      <td>26.0</td>\n",
       "      <td>1.0</td>\n",
       "      <td>1984.0</td>\n",
       "      <td>99.0</td>\n",
       "      <td>จำปาโมง</td>\n",
       "      <td>บ้านผือ</td>\n",
       "      <td>...</td>\n",
       "      <td>1/1/2011</td>\n",
       "      <td>19:00:00</td>\n",
       "      <td>บ้านฉาง</td>\n",
       "      <td>บ้านฉาง</td>\n",
       "      <td>ระยอง</td>\n",
       "      <td>NaN</td>\n",
       "      <td>NaN</td>\n",
       "      <td>V234</td>\n",
       "      <td>รถจักรยานยนต์</td>\n",
       "      <td>27.0</td>\n",
       "    </tr>\n",
       "    <tr>\n",
       "      <th>3</th>\n",
       "      <td>3</td>\n",
       "      <td>8594774</td>\n",
       "      <td>2554</td>\n",
       "      <td>2011</td>\n",
       "      <td>16.0</td>\n",
       "      <td>1.0</td>\n",
       "      <td>1994.0</td>\n",
       "      <td>99.0</td>\n",
       "      <td>ปลักแรด</td>\n",
       "      <td>บางระกำ</td>\n",
       "      <td>...</td>\n",
       "      <td>1/1/2011</td>\n",
       "      <td>2:00:00</td>\n",
       "      <td>ปลักแรด</td>\n",
       "      <td>บางระกำ</td>\n",
       "      <td>พิษณุโลก</td>\n",
       "      <td>16.663</td>\n",
       "      <td>100.121</td>\n",
       "      <td>V429</td>\n",
       "      <td>รถยนต์</td>\n",
       "      <td>17.0</td>\n",
       "    </tr>\n",
       "    <tr>\n",
       "      <th>4</th>\n",
       "      <td>4</td>\n",
       "      <td>8594775</td>\n",
       "      <td>2554</td>\n",
       "      <td>2011</td>\n",
       "      <td>12.0</td>\n",
       "      <td>1.0</td>\n",
       "      <td>1998.0</td>\n",
       "      <td>99.0</td>\n",
       "      <td>ปลักแรด</td>\n",
       "      <td>บางระกำ</td>\n",
       "      <td>...</td>\n",
       "      <td>1/1/2011</td>\n",
       "      <td>2:00:00</td>\n",
       "      <td>ปลักแรด</td>\n",
       "      <td>บางระกำ</td>\n",
       "      <td>พิษณุโลก</td>\n",
       "      <td>16.663</td>\n",
       "      <td>100.121</td>\n",
       "      <td>V429</td>\n",
       "      <td>รถยนต์</td>\n",
       "      <td>13.0</td>\n",
       "    </tr>\n",
       "  </tbody>\n",
       "</table>\n",
       "<p>5 rows × 24 columns</p>\n",
       "</div>"
      ],
      "text/plain": [
       "   Unnamed: 0       id  DEAD_YEAR(Budha)  DEAD_YEAR   Age  Sex  BirthYear  \\\n",
       "0           0  8594771              2554       2011  21.0  1.0     1989.0   \n",
       "1           1  8594772              2554       2011  23.0  1.0     1987.0   \n",
       "2           2  8594773              2554       2011  26.0  1.0     1984.0   \n",
       "3           3  8594774              2554       2011  16.0  1.0     1994.0   \n",
       "4           4  8594775              2554       2011  12.0  1.0     1998.0   \n",
       "\n",
       "   NationalityId     Tumbol   District  ...   DateRec   TimeRec AccSubDist  \\\n",
       "0           99.0  บึงสามพัน  บึงสามพัน  ...  1/1/2011   0:25:00  บึงสามพัน   \n",
       "1           99.0  พังกาญจน์        พนม  ...  1/1/2011   6:35:00  พังกาญจน์   \n",
       "2           99.0    จำปาโมง    บ้านผือ  ...  1/1/2011  19:00:00    บ้านฉาง   \n",
       "3           99.0    ปลักแรด    บางระกำ  ...  1/1/2011   2:00:00    ปลักแรด   \n",
       "4           99.0    ปลักแรด    บางระกำ  ...  1/1/2011   2:00:00    ปลักแรด   \n",
       "\n",
       "     AccDist       AccProv   AccLat  AccLong ICD-10        Vehicle new_Age  \n",
       "0  บึงสามพัน     เพชรบูรณ์  15.7941  101.007   V892        รถอื่นๆ    22.0  \n",
       "1        พนม  สุราษฎร์ธานี  8.91621  98.8904   V299  รถจักรยานยนต์    24.0  \n",
       "2    บ้านฉาง         ระยอง      NaN      NaN   V234  รถจักรยานยนต์    27.0  \n",
       "3    บางระกำ      พิษณุโลก   16.663  100.121   V429         รถยนต์    17.0  \n",
       "4    บางระกำ      พิษณุโลก   16.663  100.121   V429         รถยนต์    13.0  \n",
       "\n",
       "[5 rows x 24 columns]"
      ]
     },
     "execution_count": 73,
     "metadata": {},
     "output_type": "execute_result"
    }
   ],
   "source": [
    "data = pd.read_csv(\"./3bura_data.csv\")\n",
    "data.head()"
   ]
  },
  {
   "cell_type": "code",
   "execution_count": 74,
   "metadata": {},
   "outputs": [
    {
     "name": "stdout",
     "output_type": "stream",
     "text": [
      "<class 'pandas.core.frame.DataFrame'>\n",
      "RangeIndex: 170841 entries, 0 to 170840\n",
      "Data columns (total 24 columns):\n",
      " #   Column            Non-Null Count   Dtype  \n",
      "---  ------            --------------   -----  \n",
      " 0   Unnamed: 0        170841 non-null  int64  \n",
      " 1   id                170841 non-null  int64  \n",
      " 2   DEAD_YEAR(Budha)  170841 non-null  int64  \n",
      " 3   DEAD_YEAR         170841 non-null  int64  \n",
      " 4   Age               170841 non-null  float64\n",
      " 5   Sex               167543 non-null  float64\n",
      " 6   BirthYear         141883 non-null  float64\n",
      " 7   NationalityId     107115 non-null  float64\n",
      " 8   Tumbol            25917 non-null   object \n",
      " 9   District          56999 non-null   object \n",
      " 10  Province          57105 non-null   object \n",
      " 11  RiskHelmet        3704 non-null    object \n",
      " 12  RiskSafetyBelt    1304 non-null    object \n",
      " 13  DeadDate          170841 non-null  object \n",
      " 14  DateRec           82924 non-null   object \n",
      " 15  TimeRec           82924 non-null   object \n",
      " 16  AccSubDist        81459 non-null   object \n",
      " 17  AccDist           81760 non-null   object \n",
      " 18  AccProv           170837 non-null  object \n",
      " 19  AccLat            80591 non-null   object \n",
      " 20  AccLong           80572 non-null   object \n",
      " 21  ICD-10            152049 non-null  object \n",
      " 22  Vehicle           170841 non-null  object \n",
      " 23  new_Age           141883 non-null  float64\n",
      "dtypes: float64(5), int64(4), object(15)\n",
      "memory usage: 31.3+ MB\n"
     ]
    }
   ],
   "source": [
    "data.info()"
   ]
  },
  {
   "cell_type": "markdown",
   "metadata": {},
   "source": [
    "## How long did thay live after the accident "
   ]
  },
  {
   "cell_type": "code",
   "execution_count": 76,
   "metadata": {},
   "outputs": [],
   "source": [
    "data['DateRec'] = pd.to_datetime(data['DateRec'])\n",
    "data['DeadDate'] = pd.to_datetime(data['DeadDate'])"
   ]
  },
  {
   "cell_type": "code",
   "execution_count": 77,
   "metadata": {},
   "outputs": [
    {
     "data": {
      "text/plain": [
       "count    82924.000000\n",
       "mean         1.369037\n",
       "std         51.681298\n",
       "min       -366.000000\n",
       "25%          0.000000\n",
       "50%          0.000000\n",
       "75%          1.000000\n",
       "max        373.000000\n",
       "Name: day_alive, dtype: float64"
      ]
     },
     "execution_count": 77,
     "metadata": {},
     "output_type": "execute_result"
    }
   ],
   "source": [
    "data['day_alive'] = (data['DeadDate'] - data['DateRec']).dt.days\n",
    "data['day_alive'].describe()"
   ]
  },
  {
   "cell_type": "code",
   "execution_count": 95,
   "metadata": {
    "scrolled": true
   },
   "outputs": [
    {
     "data": {
      "image/png": "[encoded data removed]",
      "text/plain": [
       "<Figure size 1440x432 with 1 Axes>"
      ]
     },
     "metadata": {
      "needs_background": "light"
     },
     "output_type": "display_data"
    }
   ],
   "source": [
    "fig_dims = (20, 6)\n",
    "fig, ax = plt.subplots(figsize=fig_dims)\n",
    "g = sns.countplot(x=\"day_alive\", data=data[(data['day_alive']>=0) & (data['day_alive']<=10)], ax=ax)\n",
    "g.set_xticklabels(g.get_xticklabels(), rotation=30)\n",
    "\n",
    "plt.title(\"Live after the accident\")\n",
    "plt.show()"
   ]
  },
  {
   "cell_type": "markdown",
   "metadata": {},
   "source": [
    "## Age Feature"
   ]
  },
  {
   "cell_type": "code",
   "execution_count": 79,
   "metadata": {},
   "outputs": [
    {
     "data": {
      "text/plain": [
       "count    170841.000000\n",
       "mean         39.865436\n",
       "std          19.654768\n",
       "min           1.000000\n",
       "25%          23.000000\n",
       "50%          38.000000\n",
       "75%          54.000000\n",
       "max         149.000000\n",
       "Name: Age, dtype: float64"
      ]
     },
     "execution_count": 79,
     "metadata": {},
     "output_type": "execute_result"
    }
   ],
   "source": [
    "data['Age'].describe()"
   ]
  },
  {
   "cell_type": "code",
   "execution_count": 80,
   "metadata": {},
   "outputs": [
    {
     "data": {
      "image/png": "[encoded data removed]",
      "text/plain": [
       "<Figure size 432x288 with 1 Axes>"
      ]
     },
     "metadata": {
      "needs_background": "light"
     },
     "output_type": "display_data"
    }
   ],
   "source": [
    "# Dangerous Age\n",
    "g = sns.countplot(x='Age', data=data)\n",
    "g.set_xticklabels(g.get_xticklabels(), rotation=30)\n",
    "plt.show()"
   ]
  }
 ],
 "metadata": {
  "kernelspec": {
   "display_name": "Python 3",
   "language": "python",
   "name": "python3"
  }
 },
 "nbformat": 4,
 "nbformat_minor": 4
}
